{
 "cells": [
  {
   "cell_type": "markdown",
   "metadata": {},
   "source": [
    "# tf-idf包"
   ]
  },
  {
   "cell_type": "code",
   "execution_count": 8,
   "metadata": {
    "ExecuteTime": {
     "end_time": "2020-12-31T01:57:51.342280Z",
     "start_time": "2020-12-31T01:57:51.339289Z"
    }
   },
   "outputs": [],
   "source": [
    "from sklearn.feature_extraction.text import TfidfVectorizer\n",
    "import math"
   ]
  },
  {
   "cell_type": "code",
   "execution_count": 2,
   "metadata": {
    "ExecuteTime": {
     "end_time": "2020-12-31T01:46:42.881527Z",
     "start_time": "2020-12-31T01:46:42.878535Z"
    }
   },
   "outputs": [],
   "source": [
    "#实例化tf实例\n",
    "tv = TfidfVectorizer(use_idf=True, smooth_idf=True, norm=None)"
   ]
  },
  {
   "cell_type": "code",
   "execution_count": 3,
   "metadata": {
    "ExecuteTime": {
     "end_time": "2020-12-31T01:47:03.234488Z",
     "start_time": "2020-12-31T01:47:03.231495Z"
    }
   },
   "outputs": [],
   "source": [
    "# 输入训练集矩阵，每行表示一个文本\n",
    "train = [\"Chinese Beijing Chinese\",\n",
    "             \"Chinese Chinese Shanghai\",\n",
    "             \"Chinese Macao\",\n",
    "             \"Tokyo Japan Chinese\"]"
   ]
  },
  {
   "cell_type": "code",
   "execution_count": 4,
   "metadata": {
    "ExecuteTime": {
     "end_time": "2020-12-31T01:47:57.205941Z",
     "start_time": "2020-12-31T01:47:57.200952Z"
    }
   },
   "outputs": [],
   "source": [
    "# 训练，构建词汇表以及词项idf值，并将输入文本列表转成VSM矩阵形式\n",
    "tv_fit = tv.fit_transform(train)"
   ]
  },
  {
   "cell_type": "markdown",
   "metadata": {},
   "source": [
    "## 词汇表"
   ]
  },
  {
   "cell_type": "code",
   "execution_count": 5,
   "metadata": {
    "ExecuteTime": {
     "end_time": "2020-12-31T01:48:04.361030Z",
     "start_time": "2020-12-31T01:48:04.353063Z"
    }
   },
   "outputs": [
    {
     "data": {
      "text/plain": [
       "['beijing', 'chinese', 'japan', 'macao', 'shanghai', 'tokyo']"
      ]
     },
     "execution_count": 5,
     "metadata": {},
     "output_type": "execute_result"
    }
   ],
   "source": [
    "# 查看一下构建的词汇表\n",
    "tv.get_feature_names()"
   ]
  },
  {
   "cell_type": "markdown",
   "metadata": {},
   "source": [
    "## VSM矩阵"
   ]
  },
  {
   "cell_type": "code",
   "execution_count": 6,
   "metadata": {
    "ExecuteTime": {
     "end_time": "2020-12-31T01:55:31.758811Z",
     "start_time": "2020-12-31T01:55:31.749835Z"
    }
   },
   "outputs": [
    {
     "data": {
      "text/plain": [
       "array([[1.91629073, 2.        , 0.        , 0.        , 0.        ,\n",
       "        0.        ],\n",
       "       [0.        , 2.        , 0.        , 0.        , 1.91629073,\n",
       "        0.        ],\n",
       "       [0.        , 1.        , 0.        , 1.91629073, 0.        ,\n",
       "        0.        ],\n",
       "       [0.        , 1.        , 1.91629073, 0.        , 0.        ,\n",
       "        1.91629073]])"
      ]
     },
     "execution_count": 6,
     "metadata": {},
     "output_type": "execute_result"
    }
   ],
   "source": [
    "# 查看输入文本列表的VSM矩阵\n",
    "tv_fit.toarray()"
   ]
  },
  {
   "cell_type": "markdown",
   "metadata": {},
   "source": [
    "## 计算方法"
   ]
  },
  {
   "cell_type": "code",
   "execution_count": 10,
   "metadata": {
    "ExecuteTime": {
     "end_time": "2020-12-31T01:57:58.957652Z",
     "start_time": "2020-12-31T01:57:58.952664Z"
    }
   },
   "outputs": [
    {
     "data": {
      "text/plain": [
       "1.916290731874155"
      ]
     },
     "execution_count": 10,
     "metadata": {},
     "output_type": "execute_result"
    }
   ],
   "source": [
    "# 词语beijing的在第1篇文本中的频次为.0，tf(beijing,d1)=1.0\n",
    "# 词语beijing只在第1篇文本中出现过df(d,beijing)=1,nd=4,\n",
    "# 代入平滑版的tf-idf计算式得到1.9\n",
    "1.0*(1+math.log((4+1)/(1+1)))"
   ]
  },
  {
   "cell_type": "code",
   "execution_count": 11,
   "metadata": {
    "ExecuteTime": {
     "end_time": "2020-12-31T01:58:08.111424Z",
     "start_time": "2020-12-31T01:58:08.105441Z"
    }
   },
   "outputs": [
    {
     "name": "stdout",
     "output_type": "stream",
     "text": [
      "Help on built-in function log in module math:\n",
      "\n",
      "log(...)\n",
      "    log(x[, base])\n",
      "    \n",
      "    Return the logarithm of x to the given base.\n",
      "    If the base not specified, returns the natural logarithm (base e) of x.\n",
      "\n"
     ]
    }
   ],
   "source": [
    "help(math.log)"
   ]
  },
  {
   "cell_type": "code",
   "execution_count": 12,
   "metadata": {
    "ExecuteTime": {
     "end_time": "2020-12-31T02:00:11.676483Z",
     "start_time": "2020-12-31T02:00:11.672461Z"
    }
   },
   "outputs": [
    {
     "data": {
      "text/plain": [
       "2.0"
      ]
     },
     "execution_count": 12,
     "metadata": {},
     "output_type": "execute_result"
    }
   ],
   "source": [
    "# 词语chinese的在第1篇文本中的频次为2.0，tf(chinese,d1)=2.0\n",
    "# 词语chinese只在4篇文本中都出现过df(d,beijing)=4,nd=4,\n",
    "# 代入平滑版的tf-idf计算式得到2.0\n",
    "2.0*(1+math.log(4/4))"
   ]
  },
  {
   "cell_type": "markdown",
   "metadata": {},
   "source": [
    "上边得到的矩阵就可以喂到后续的线性分类模型中进行训练了，注意要带每篇文本的类别标记呦。"
   ]
  },
  {
   "cell_type": "markdown",
   "metadata": {},
   "source": [
    "## 测试文本"
   ]
  },
  {
   "cell_type": "code",
   "execution_count": 13,
   "metadata": {
    "ExecuteTime": {
     "end_time": "2020-12-31T02:09:50.577131Z",
     "start_time": "2020-12-31T02:09:50.574139Z"
    }
   },
   "outputs": [],
   "source": [
    "test = [\"Chinese Chinese Chinese Tokyo Japan\"]"
   ]
  },
  {
   "cell_type": "code",
   "execution_count": 14,
   "metadata": {
    "ExecuteTime": {
     "end_time": "2020-12-31T02:09:55.696244Z",
     "start_time": "2020-12-31T02:09:55.692254Z"
    }
   },
   "outputs": [],
   "source": [
    "test_fit = tv.transform(test)"
   ]
  },
  {
   "cell_type": "code",
   "execution_count": 15,
   "metadata": {
    "ExecuteTime": {
     "end_time": "2020-12-31T02:10:01.201257Z",
     "start_time": "2020-12-31T02:10:01.197297Z"
    }
   },
   "outputs": [
    {
     "data": {
      "text/plain": [
       "['beijing', 'chinese', 'japan', 'macao', 'shanghai', 'tokyo']"
      ]
     },
     "execution_count": 15,
     "metadata": {},
     "output_type": "execute_result"
    }
   ],
   "source": [
    "tv.get_feature_names()"
   ]
  },
  {
   "cell_type": "code",
   "execution_count": 16,
   "metadata": {
    "ExecuteTime": {
     "end_time": "2020-12-31T02:10:06.115113Z",
     "start_time": "2020-12-31T02:10:06.111123Z"
    }
   },
   "outputs": [
    {
     "data": {
      "text/plain": [
       "array([[0.        , 3.        , 1.91629073, 0.        , 0.        ,\n",
       "        1.91629073]])"
      ]
     },
     "execution_count": 16,
     "metadata": {},
     "output_type": "execute_result"
    }
   ],
   "source": [
    "test_fit.toarray()"
   ]
  },
  {
   "cell_type": "markdown",
   "metadata": {},
   "source": [
    "手动计算一下Chinese和Japan这两个词项的tf-idf值"
   ]
  },
  {
   "cell_type": "code",
   "execution_count": 17,
   "metadata": {
    "ExecuteTime": {
     "end_time": "2020-12-31T02:10:51.619567Z",
     "start_time": "2020-12-31T02:10:51.615577Z"
    }
   },
   "outputs": [
    {
     "data": {
      "text/plain": [
       "3.0"
      ]
     },
     "execution_count": 17,
     "metadata": {},
     "output_type": "execute_result"
    }
   ],
   "source": [
    "# chinese词项在测试文本中出现了3次，因此tf(chinese,t)=3\n",
    "# 从训练集知道chinese在4篇文本中都出现，因此df(d,beijing)=4,nd=4\n",
    "# 计算得到tf-idf值\n",
    "3.0*(1+math.log((1+4)/(1+4)))"
   ]
  },
  {
   "cell_type": "code",
   "execution_count": 18,
   "metadata": {
    "ExecuteTime": {
     "end_time": "2020-12-31T02:11:25.345406Z",
     "start_time": "2020-12-31T02:11:25.341417Z"
    }
   },
   "outputs": [
    {
     "data": {
      "text/plain": [
       "1.916290731874155"
      ]
     },
     "execution_count": 18,
     "metadata": {},
     "output_type": "execute_result"
    }
   ],
   "source": [
    "# japan词项在测试文本中出现了1次，因此tf(japan,t)=1\n",
    "# 从训练集知道japan仅在第4篇文本中出现，因此df(d,japan)=1,nd=4\n",
    "# 计算得到文本的tf-idf值\n",
    "1.0*(1+math.log((1+4)/(1+1)))"
   ]
  },
  {
   "cell_type": "raw",
   "metadata": {},
   "source": [
    "# text_split->tfidf\n",
    "word_vec = TfidfVectorizer(analyzer='word', # 定义特征为词（word）或n-gram字符，如果传递给它的调用被用于抽取未处理输入源文件的特征序列\n",
    "            ngram_range=(1,2),#(1,3) #要提取的n-gram的n-values的下限和上限范围，在min_n <= n <= max_n区间的n的全部值\n",
    "            min_df=3,  # 4  5 #当构建词汇表时，严格忽略低于给出阈值的文档频率的词条，语料指定的停用词。如果是浮点值，该参数代表文档的比例，整型绝对计数值，如果词汇表不为None，此参数被忽略。\n",
    "            max_df=0.9, # 0.95 1.0 # 当构建词汇表时，严格忽略高于给出阈值的文档频率的词条，语料指定的停用词。如果是浮点值，该参数代表文档的比例，整型绝对计数值，如果词汇表不为None，此参数被忽略。\n",
    "            use_idf=True, # 启动inverse-document-frequency重新计算权重\n",
    "            max_features = 3000, #如果不为None，构建一个词汇表，仅考虑max_features--按语料词频排序，如果词汇表不为None，这个参数被忽略\n",
    "            smooth_idf=True,  #通过加1到文档频率平滑idf权重，为防止除零，加入一个额外的文档\n",
    "            sublinear_tf=True) #应用线性缩放TF，例如，使用1+log(tf)覆盖tf\n",
    "train_term_doc = word_vec.fit_transform(train_df['text_split'])\n",
    "test_term_doc = word_vec.transform(test_df['text_split'])"
   ]
  },
  {
   "cell_type": "code",
   "execution_count": null,
   "metadata": {},
   "outputs": [],
   "source": []
  }
 ],
 "metadata": {
  "kernelspec": {
   "display_name": "Python [conda env:.conda-pytorch] *",
   "language": "python",
   "name": "conda-env-.conda-pytorch-py"
  },
  "language_info": {
   "codemirror_mode": {
    "name": "ipython",
    "version": 3
   },
   "file_extension": ".py",
   "mimetype": "text/x-python",
   "name": "python",
   "nbconvert_exporter": "python",
   "pygments_lexer": "ipython3",
   "version": "3.6.6"
  },
  "toc": {
   "base_numbering": 1,
   "nav_menu": {},
   "number_sections": true,
   "sideBar": true,
   "skip_h1_title": false,
   "title_cell": "Table of Contents",
   "title_sidebar": "Contents",
   "toc_cell": false,
   "toc_position": {},
   "toc_section_display": true,
   "toc_window_display": true
  }
 },
 "nbformat": 4,
 "nbformat_minor": 4
}
